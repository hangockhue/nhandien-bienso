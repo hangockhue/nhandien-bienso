{
 "cells": [
  {
   "cell_type": "code",
   "execution_count": 2,
   "metadata": {},
   "outputs": [],
   "source": [
    "import cv2"
   ]
  },
  {
   "cell_type": "code",
   "execution_count": 3,
   "metadata": {},
   "outputs": [],
   "source": [
    "import numpy as np"
   ]
  },
  {
   "cell_type": "code",
   "execution_count": 5,
   "metadata": {},
   "outputs": [
    {
     "data": {
      "text/plain": [
       "array([90., 84., 82., 80., 77., 70., 69., 68., 66., 65., 89., 88., 87.,\n",
       "       86., 85., 83., 81., 79., 78., 76., 75., 74., 73., 72., 71., 67.,\n",
       "       57., 56., 55., 54., 53., 51., 50., 48., 52., 49., 82., 80., 77.,\n",
       "       68., 66., 65., 90., 89., 88., 87., 86., 85., 84., 83., 81., 79.,\n",
       "       78., 76., 75., 74., 73., 72., 71., 70., 69., 67., 52., 49., 57.,\n",
       "       56., 55., 54., 53., 51., 50., 48., 90., 89., 88., 87., 86., 85.,\n",
       "       84., 83., 82., 81., 80., 79., 78., 77., 76., 75., 74., 73., 72.,\n",
       "       71., 70., 69., 68., 67., 66., 65., 49., 57., 56., 55., 54., 53.,\n",
       "       52., 51., 50., 48., 90., 89., 88., 87., 86., 85., 84., 82., 80.,\n",
       "       78., 77., 76., 75., 74., 73., 72., 70., 69., 68., 66., 65., 83.,\n",
       "       81., 79., 71., 67., 55., 51., 50., 49., 57., 56., 54., 53., 52.,\n",
       "       48., 82., 80., 77., 68., 66., 65., 90., 89., 88., 87., 86., 85.,\n",
       "       84., 83., 81., 79., 78., 76., 75., 74., 73., 72., 71., 70., 69.,\n",
       "       67., 55., 53., 52., 57., 56., 54., 51., 50., 49., 48.],\n",
       "      dtype=float32)"
      ]
     },
     "execution_count": 5,
     "metadata": {},
     "output_type": "execute_result"
    }
   ],
   "source": [
    "np.loadtxt(\"classifications.txt\", np.float32)"
   ]
  },
  {
   "cell_type": "code",
   "execution_count": 6,
   "metadata": {},
   "outputs": [],
   "source": [
    "flatten = np.loadtxt(\"flattened_images.txt\", np.float32)"
   ]
  },
  {
   "cell_type": "code",
   "execution_count": 7,
   "metadata": {},
   "outputs": [
    {
     "data": {
      "text/plain": [
       "(180, 180)"
      ]
     },
     "execution_count": 7,
     "metadata": {},
     "output_type": "execute_result"
    }
   ],
   "source": [
    "len(np.loadtxt(\"flattened_images.txt\")), len((np.loadtxt(\"classifications.txt\")))"
   ]
  },
  {
   "cell_type": "code",
   "execution_count": 9,
   "metadata": {},
   "outputs": [],
   "source": [
    "a = flatten[0].reshape(30,20)\n",
    "a = cv2.resize(a, (300,200))"
   ]
  },
  {
   "cell_type": "code",
   "execution_count": 10,
   "metadata": {},
   "outputs": [
    {
     "data": {
      "text/plain": [
       "-1"
      ]
     },
     "execution_count": 10,
     "metadata": {},
     "output_type": "execute_result"
    }
   ],
   "source": [
    "cv2.imshow(\"image\", a)\n",
    "cv2.waitKey(0)"
   ]
  },
  {
   "cell_type": "code",
   "execution_count": null,
   "metadata": {},
   "outputs": [],
   "source": []
  }
 ],
 "metadata": {
  "kernelspec": {
   "display_name": "Python 3",
   "language": "python",
   "name": "python3"
  },
  "language_info": {
   "codemirror_mode": {
    "name": "ipython",
    "version": 3
   },
   "file_extension": ".py",
   "mimetype": "text/x-python",
   "name": "python",
   "nbconvert_exporter": "python",
   "pygments_lexer": "ipython3",
   "version": "3.6.7"
  }
 },
 "nbformat": 4,
 "nbformat_minor": 2
}
